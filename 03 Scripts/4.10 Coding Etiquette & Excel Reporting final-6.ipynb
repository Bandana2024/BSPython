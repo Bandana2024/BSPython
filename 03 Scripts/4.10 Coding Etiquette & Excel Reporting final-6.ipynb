{
 "cells": [
  {
   "cell_type": "markdown",
   "id": "1b412741",
   "metadata": {},
   "source": [
    "### Reordring habits by region"
   ]
  },
  {
   "cell_type": "code",
   "execution_count": 1,
   "id": "11bf6640",
   "metadata": {},
   "outputs": [],
   "source": [
    "#importing libraris\n",
    "import pandas as pd\n",
    "import numpy as np\n",
    "import os\n",
    "import matplotlib.pyplot as plt\n",
    "import seaborn as sns\n",
    "import scipy"
   ]
  },
  {
   "cell_type": "code",
   "execution_count": 2,
   "id": "1af8c270",
   "metadata": {},
   "outputs": [],
   "source": [
    "#defining a path\n",
    "path=r'C:\\Users\\banda\\Instacart Basket Analysis'\n",
    "df=pd.read_pickle(os.path.join(path, '02 Data','Prepared Data','df_with_flag_final.pkl'))"
   ]
  },
  {
   "cell_type": "code",
   "execution_count": 3,
   "id": "acad3160",
   "metadata": {},
   "outputs": [
    {
     "data": {
      "text/html": [
       "<div>\n",
       "<style scoped>\n",
       "    .dataframe tbody tr th:only-of-type {\n",
       "        vertical-align: middle;\n",
       "    }\n",
       "\n",
       "    .dataframe tbody tr th {\n",
       "        vertical-align: top;\n",
       "    }\n",
       "\n",
       "    .dataframe thead th {\n",
       "        text-align: right;\n",
       "    }\n",
       "</style>\n",
       "<table border=\"1\" class=\"dataframe\">\n",
       "  <thead>\n",
       "    <tr style=\"text-align: right;\">\n",
       "      <th></th>\n",
       "      <th>order_id</th>\n",
       "      <th>user_id</th>\n",
       "      <th>order_number</th>\n",
       "      <th>orders_day_of_week</th>\n",
       "      <th>order_hour_of_day</th>\n",
       "      <th>days_since_prior_order</th>\n",
       "      <th>product_id</th>\n",
       "      <th>add_to_cart_order</th>\n",
       "      <th>reordered</th>\n",
       "      <th>product_name</th>\n",
       "      <th>...</th>\n",
       "      <th>Age</th>\n",
       "      <th>date_joined</th>\n",
       "      <th>Number_of_dependants</th>\n",
       "      <th>Family_status</th>\n",
       "      <th>income</th>\n",
       "      <th>region</th>\n",
       "      <th>cust-5_flag</th>\n",
       "      <th>age_group</th>\n",
       "      <th>income_Group</th>\n",
       "      <th>department</th>\n",
       "    </tr>\n",
       "  </thead>\n",
       "  <tbody>\n",
       "    <tr>\n",
       "      <th>0</th>\n",
       "      <td>2539329</td>\n",
       "      <td>1</td>\n",
       "      <td>1</td>\n",
       "      <td>2</td>\n",
       "      <td>8</td>\n",
       "      <td>20.0</td>\n",
       "      <td>196</td>\n",
       "      <td>1</td>\n",
       "      <td>0</td>\n",
       "      <td>Soda</td>\n",
       "      <td>...</td>\n",
       "      <td>31</td>\n",
       "      <td>2019-02-17</td>\n",
       "      <td>3</td>\n",
       "      <td>married</td>\n",
       "      <td>40423</td>\n",
       "      <td>South</td>\n",
       "      <td>No</td>\n",
       "      <td>Adult</td>\n",
       "      <td>Low income</td>\n",
       "      <td>beverages</td>\n",
       "    </tr>\n",
       "    <tr>\n",
       "      <th>1</th>\n",
       "      <td>2398795</td>\n",
       "      <td>1</td>\n",
       "      <td>2</td>\n",
       "      <td>3</td>\n",
       "      <td>7</td>\n",
       "      <td>15.0</td>\n",
       "      <td>196</td>\n",
       "      <td>1</td>\n",
       "      <td>1</td>\n",
       "      <td>Soda</td>\n",
       "      <td>...</td>\n",
       "      <td>31</td>\n",
       "      <td>2019-02-17</td>\n",
       "      <td>3</td>\n",
       "      <td>married</td>\n",
       "      <td>40423</td>\n",
       "      <td>South</td>\n",
       "      <td>No</td>\n",
       "      <td>Adult</td>\n",
       "      <td>Low income</td>\n",
       "      <td>beverages</td>\n",
       "    </tr>\n",
       "    <tr>\n",
       "      <th>2</th>\n",
       "      <td>473747</td>\n",
       "      <td>1</td>\n",
       "      <td>3</td>\n",
       "      <td>3</td>\n",
       "      <td>12</td>\n",
       "      <td>21.0</td>\n",
       "      <td>196</td>\n",
       "      <td>1</td>\n",
       "      <td>1</td>\n",
       "      <td>Soda</td>\n",
       "      <td>...</td>\n",
       "      <td>31</td>\n",
       "      <td>2019-02-17</td>\n",
       "      <td>3</td>\n",
       "      <td>married</td>\n",
       "      <td>40423</td>\n",
       "      <td>South</td>\n",
       "      <td>No</td>\n",
       "      <td>Adult</td>\n",
       "      <td>Low income</td>\n",
       "      <td>beverages</td>\n",
       "    </tr>\n",
       "    <tr>\n",
       "      <th>3</th>\n",
       "      <td>2254736</td>\n",
       "      <td>1</td>\n",
       "      <td>4</td>\n",
       "      <td>4</td>\n",
       "      <td>7</td>\n",
       "      <td>29.0</td>\n",
       "      <td>196</td>\n",
       "      <td>1</td>\n",
       "      <td>1</td>\n",
       "      <td>Soda</td>\n",
       "      <td>...</td>\n",
       "      <td>31</td>\n",
       "      <td>2019-02-17</td>\n",
       "      <td>3</td>\n",
       "      <td>married</td>\n",
       "      <td>40423</td>\n",
       "      <td>South</td>\n",
       "      <td>No</td>\n",
       "      <td>Adult</td>\n",
       "      <td>Low income</td>\n",
       "      <td>beverages</td>\n",
       "    </tr>\n",
       "    <tr>\n",
       "      <th>4</th>\n",
       "      <td>431534</td>\n",
       "      <td>1</td>\n",
       "      <td>5</td>\n",
       "      <td>4</td>\n",
       "      <td>15</td>\n",
       "      <td>28.0</td>\n",
       "      <td>196</td>\n",
       "      <td>1</td>\n",
       "      <td>1</td>\n",
       "      <td>Soda</td>\n",
       "      <td>...</td>\n",
       "      <td>31</td>\n",
       "      <td>2019-02-17</td>\n",
       "      <td>3</td>\n",
       "      <td>married</td>\n",
       "      <td>40423</td>\n",
       "      <td>South</td>\n",
       "      <td>No</td>\n",
       "      <td>Adult</td>\n",
       "      <td>Low income</td>\n",
       "      <td>beverages</td>\n",
       "    </tr>\n",
       "  </tbody>\n",
       "</table>\n",
       "<p>5 rows × 34 columns</p>\n",
       "</div>"
      ],
      "text/plain": [
       "  order_id user_id  order_number  orders_day_of_week  order_hour_of_day  \\\n",
       "0  2539329       1             1                   2                  8   \n",
       "1  2398795       1             2                   3                  7   \n",
       "2   473747       1             3                   3                 12   \n",
       "3  2254736       1             4                   4                  7   \n",
       "4   431534       1             5                   4                 15   \n",
       "\n",
       "   days_since_prior_order product_id  add_to_cart_order  reordered  \\\n",
       "0                    20.0        196                  1          0   \n",
       "1                    15.0        196                  1          1   \n",
       "2                    21.0        196                  1          1   \n",
       "3                    29.0        196                  1          1   \n",
       "4                    28.0        196                  1          1   \n",
       "\n",
       "  product_name  ...  Age  date_joined  Number_of_dependants Family_status  \\\n",
       "0         Soda  ...   31   2019-02-17                     3       married   \n",
       "1         Soda  ...   31   2019-02-17                     3       married   \n",
       "2         Soda  ...   31   2019-02-17                     3       married   \n",
       "3         Soda  ...   31   2019-02-17                     3       married   \n",
       "4         Soda  ...   31   2019-02-17                     3       married   \n",
       "\n",
       "  income region  cust-5_flag age_group  income_Group department  \n",
       "0  40423  South           No     Adult    Low income  beverages  \n",
       "1  40423  South           No     Adult    Low income  beverages  \n",
       "2  40423  South           No     Adult    Low income  beverages  \n",
       "3  40423  South           No     Adult    Low income  beverages  \n",
       "4  40423  South           No     Adult    Low income  beverages  \n",
       "\n",
       "[5 rows x 34 columns]"
      ]
     },
     "execution_count": 3,
     "metadata": {},
     "output_type": "execute_result"
    }
   ],
   "source": [
    "df.head()"
   ]
  },
  {
   "cell_type": "code",
   "execution_count": 4,
   "id": "f4689833",
   "metadata": {},
   "outputs": [
    {
     "data": {
      "text/plain": [
       "(30964564, 34)"
      ]
     },
     "execution_count": 4,
     "metadata": {},
     "output_type": "execute_result"
    }
   ],
   "source": [
    "df.shape"
   ]
  },
  {
   "cell_type": "code",
   "execution_count": 5,
   "id": "3d0b1d42",
   "metadata": {},
   "outputs": [
    {
     "name": "stdout",
     "output_type": "stream",
     "text": [
      "<class 'pandas.core.frame.DataFrame'>\n",
      "RangeIndex: 30964564 entries, 0 to 30964563\n",
      "Data columns (total 34 columns):\n",
      " #   Column                  Dtype         \n",
      "---  ------                  -----         \n",
      " 0   order_id                object        \n",
      " 1   user_id                 object        \n",
      " 2   order_number            int32         \n",
      " 3   orders_day_of_week      int8          \n",
      " 4   order_hour_of_day       int8          \n",
      " 5   days_since_prior_order  float64       \n",
      " 6   product_id              object        \n",
      " 7   add_to_cart_order       int32         \n",
      " 8   reordered               int32         \n",
      " 9   product_name            object        \n",
      " 10  aisle_id                int8          \n",
      " 11  department_id           int32         \n",
      " 12  prices                  float64       \n",
      " 13  price_range_loc         object        \n",
      " 14  busiest_period_of_day   object        \n",
      " 15  busiest_days            object        \n",
      " 16  max_order               int32         \n",
      " 17  loyalty_flag            object        \n",
      " 18  mean_buyer              float64       \n",
      " 19  Spending_flag           object        \n",
      " 20  median_ordering         float64       \n",
      " 21  Order_frequency_flag    object        \n",
      " 22  Gender                  object        \n",
      " 23  State                   object        \n",
      " 24  Age                     int8          \n",
      " 25  date_joined             datetime64[ns]\n",
      " 26  Number_of_dependants    int8          \n",
      " 27  Family_status           object        \n",
      " 28  income                  int32         \n",
      " 29  region                  object        \n",
      " 30  cust-5_flag             object        \n",
      " 31  age_group               object        \n",
      " 32  income_Group            object        \n",
      " 33  department              object        \n",
      "dtypes: datetime64[ns](1), float64(4), int32(6), int8(5), object(18)\n",
      "memory usage: 6.1+ GB\n"
     ]
    }
   ],
   "source": [
    "df.info()"
   ]
  },
  {
   "cell_type": "code",
   "execution_count": 6,
   "id": "4042b576",
   "metadata": {},
   "outputs": [],
   "source": [
    "#creating subset to avoid RAm ISsues\n",
    "Sub_df=df[['department','Order_frequency_flag','median_ordering','busiest_days','loyalty_flag','Family_status','age_group','order_id','reordered','region','days_since_prior_order','order_number']]"
   ]
  },
  {
   "cell_type": "code",
   "execution_count": 11,
   "id": "40041a93",
   "metadata": {},
   "outputs": [
    {
     "data": {
      "image/png": "[encoded data removed]",
      "text/plain": [
       "<Figure size 1200x800 with 1 Axes>"
      ]
     },
     "metadata": {},
     "output_type": "display_data"
    }
   ],
   "source": [
    "# Group by 'region' and sum the number of reorders\n",
    "aggregated_df = df.groupby('region')['reordered'].sum().reset_index()\n",
    "\n",
    "# Create a bar plot\n",
    "plt.figure(figsize=(12, 8))\n",
    "reg_reord=sns.barplot(x='region', y='reordered', data=aggregated_df, palette='viridis')\n",
    "\n",
    "# Customize the plot\n",
    "plt.title('Total Reorders by Region')\n",
    "plt.xlabel('Region')\n",
    "plt.ylabel('Total Reorders')\n",
    "\n",
    "# Show the plot\n",
    "plt.show()\n",
    "\n",
    "\n",
    "\n",
    "\n"
   ]
  },
  {
   "cell_type": "markdown",
   "id": "f15086fd",
   "metadata": {},
   "source": [
    ".figure.savefig(os.path.join(path, '04 Analysis','Visualizations', 'user_dep_loyal.png')) #to export data visualization"
   ]
  },
  {
   "cell_type": "code",
   "execution_count": 10,
   "id": "1e4f6cdb",
   "metadata": {},
   "outputs": [
    {
     "data": {
      "image/png": "[encoded data removed]",
      "text/plain": [
       "<Figure size 1200x800 with 1 Axes>"
      ]
     },
     "metadata": {},
     "output_type": "display_data"
    }
   ],
   "source": [
    "plt.figure(figsize=(12, 8))\n",
    "age_reorder=sns.barplot(x='age_group', y='reordered', data=df, palette='viridis')\n",
    "\n",
    "# Customize the plot\n",
    "plt.title('Reordering Habits by Age Group')\n",
    "plt.xlabel('Age Group')\n",
    "plt.ylabel('Average Reorder Rate')\n",
    "\n",
    "# Show the plot\n",
    "plt.show()"
   ]
  },
  {
   "cell_type": "code",
   "execution_count": 12,
   "id": "762424e2",
   "metadata": {},
   "outputs": [],
   "source": [
    "age_reorder.figure.savefig(os.path.join(path, '04 Analysis','Visualizations', 'age_reorder.png')) #to export data visualization"
   ]
  },
  {
   "cell_type": "code",
   "execution_count": 13,
   "id": "646515fb",
   "metadata": {},
   "outputs": [],
   "source": [
    "reg_reord.figure.savefig(os.path.join(path, '04 Analysis','Visualizations', 'cust_reorder.png')) "
   ]
  }
 ],
 "metadata": {
  "kernelspec": {
   "display_name": "Python 3 (ipykernel)",
   "language": "python",
   "name": "python3"
  },
  "language_info": {
   "codemirror_mode": {
    "name": "ipython",
    "version": 3
   },
   "file_extension": ".py",
   "mimetype": "text/x-python",
   "name": "python",
   "nbconvert_exporter": "python",
   "pygments_lexer": "ipython3",
   "version": "3.11.5"
  }
 },
 "nbformat": 4,
 "nbformat_minor": 5
}
