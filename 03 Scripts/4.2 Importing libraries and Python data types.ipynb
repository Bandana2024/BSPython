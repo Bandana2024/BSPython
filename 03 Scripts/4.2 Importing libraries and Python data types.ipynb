{
 "cells": [
  {
   "cell_type": "markdown",
   "id": "52b1d2fd",
   "metadata": {},
   "source": [
    "# 01. Importing Libaries"
   ]
  },
  {
   "cell_type": "code",
   "execution_count": 3,
   "id": "5ed2391d",
   "metadata": {},
   "outputs": [],
   "source": [
    "# Importing libaries\n",
    "import pandas as pd\n",
    "import numpy as np\n",
    "import os"
   ]
  },
  {
   "cell_type": "markdown",
   "id": "750ca7dc",
   "metadata": {},
   "source": [
    "# 02. Python Data Types\n",
    "\n"
   ]
  },
  {
   "cell_type": "markdown",
   "id": "96286ced",
   "metadata": {},
   "source": [
    "## Integer"
   ]
  },
  {
   "cell_type": "code",
   "execution_count": 4,
   "id": "12ed6c90",
   "metadata": {},
   "outputs": [],
   "source": [
    "x = 2\n",
    "    "
   ]
  },
  {
   "cell_type": "code",
   "execution_count": 5,
   "id": "d0eb38c6",
   "metadata": {},
   "outputs": [
    {
     "data": {
      "text/plain": [
       "2"
      ]
     },
     "execution_count": 5,
     "metadata": {},
     "output_type": "execute_result"
    }
   ],
   "source": [
    "x"
   ]
  },
  {
   "cell_type": "code",
   "execution_count": 6,
   "id": "6348ee52",
   "metadata": {},
   "outputs": [
    {
     "name": "stdout",
     "output_type": "stream",
     "text": [
      "2\n"
     ]
    }
   ],
   "source": [
    "print(x)"
   ]
  },
  {
   "cell_type": "code",
   "execution_count": 7,
   "id": "b567497e",
   "metadata": {},
   "outputs": [
    {
     "data": {
      "text/plain": [
       "int"
      ]
     },
     "execution_count": 7,
     "metadata": {},
     "output_type": "execute_result"
    }
   ],
   "source": [
    "type(x)"
   ]
  },
  {
   "cell_type": "markdown",
   "id": "e015443e",
   "metadata": {},
   "source": [
    "## float-point numbers"
   ]
  },
  {
   "cell_type": "code",
   "execution_count": 10,
   "id": "f713df4d",
   "metadata": {},
   "outputs": [],
   "source": [
    "y= 5.678"
   ]
  },
  {
   "cell_type": "code",
   "execution_count": 13,
   "id": "31f68f61",
   "metadata": {},
   "outputs": [
    {
     "ename": "NameError",
     "evalue": "name 'Type' is not defined",
     "output_type": "error",
     "traceback": [
      "\u001b[1;31m---------------------------------------------------------------------------\u001b[0m",
      "\u001b[1;31mNameError\u001b[0m                                 Traceback (most recent call last)",
      "Cell \u001b[1;32mIn[13], line 1\u001b[0m\n\u001b[1;32m----> 1\u001b[0m Type(y)\n",
      "\u001b[1;31mNameError\u001b[0m: name 'Type' is not defined"
     ]
    }
   ],
   "source": [
    "Type(y)"
   ]
  },
  {
   "cell_type": "code",
   "execution_count": 14,
   "id": "4c876e6c",
   "metadata": {},
   "outputs": [
    {
     "data": {
      "text/plain": [
       "float"
      ]
     },
     "execution_count": 14,
     "metadata": {},
     "output_type": "execute_result"
    }
   ],
   "source": [
    "type(y)"
   ]
  },
  {
   "cell_type": "markdown",
   "id": "5f1eea13",
   "metadata": {},
   "source": [
    "## String"
   ]
  },
  {
   "cell_type": "code",
   "execution_count": 15,
   "id": "d3f538f3",
   "metadata": {},
   "outputs": [],
   "source": [
    "Z='Brazil'"
   ]
  },
  {
   "cell_type": "code",
   "execution_count": 16,
   "id": "36ef2d85",
   "metadata": {},
   "outputs": [
    {
     "data": {
      "text/plain": [
       "str"
      ]
     },
     "execution_count": 16,
     "metadata": {},
     "output_type": "execute_result"
    }
   ],
   "source": [
    "type(Z)"
   ]
  },
  {
   "cell_type": "code",
   "execution_count": 17,
   "id": "23db0295",
   "metadata": {},
   "outputs": [
    {
     "data": {
      "text/plain": [
       "str"
      ]
     },
     "execution_count": 17,
     "metadata": {},
     "output_type": "execute_result"
    }
   ],
   "source": [
    "type('Mania')"
   ]
  },
  {
   "cell_type": "markdown",
   "id": "38ae0e6f",
   "metadata": {},
   "source": [
    "## Boolean *type T and F in capital always and lowe-case for type."
   ]
  },
  {
   "cell_type": "code",
   "execution_count": 18,
   "id": "7c27d4f6",
   "metadata": {},
   "outputs": [
    {
     "ename": "NameError",
     "evalue": "name 'Type' is not defined",
     "output_type": "error",
     "traceback": [
      "\u001b[1;31m---------------------------------------------------------------------------\u001b[0m",
      "\u001b[1;31mNameError\u001b[0m                                 Traceback (most recent call last)",
      "Cell \u001b[1;32mIn[18], line 1\u001b[0m\n\u001b[1;32m----> 1\u001b[0m Type(true)\n",
      "\u001b[1;31mNameError\u001b[0m: name 'Type' is not defined"
     ]
    }
   ],
   "source": [
    "Type(true)"
   ]
  },
  {
   "cell_type": "code",
   "execution_count": 19,
   "id": "b5dd0244",
   "metadata": {},
   "outputs": [
    {
     "ename": "NameError",
     "evalue": "name 'true' is not defined",
     "output_type": "error",
     "traceback": [
      "\u001b[1;31m---------------------------------------------------------------------------\u001b[0m",
      "\u001b[1;31mNameError\u001b[0m                                 Traceback (most recent call last)",
      "Cell \u001b[1;32mIn[19], line 1\u001b[0m\n\u001b[1;32m----> 1\u001b[0m \u001b[38;5;28mtype\u001b[39m(true)\n",
      "\u001b[1;31mNameError\u001b[0m: name 'true' is not defined"
     ]
    }
   ],
   "source": [
    "type(true)"
   ]
  },
  {
   "cell_type": "code",
   "execution_count": 21,
   "id": "4ead2123",
   "metadata": {},
   "outputs": [
    {
     "data": {
      "text/plain": [
       "bool"
      ]
     },
     "execution_count": 21,
     "metadata": {},
     "output_type": "execute_result"
    }
   ],
   "source": [
    "type(True)"
   ]
  },
  {
   "cell_type": "code",
   "execution_count": 22,
   "id": "e1a8fe77",
   "metadata": {},
   "outputs": [
    {
     "data": {
      "text/plain": [
       "bool"
      ]
     },
     "execution_count": 22,
     "metadata": {},
     "output_type": "execute_result"
    }
   ],
   "source": [
    "type(False)"
   ]
  },
  {
   "cell_type": "markdown",
   "id": "6ae6e895",
   "metadata": {},
   "source": [
    "## Python operator"
   ]
  },
  {
   "cell_type": "code",
   "execution_count": 23,
   "id": "29515471",
   "metadata": {},
   "outputs": [
    {
     "name": "stdout",
     "output_type": "stream",
     "text": [
      "2\n"
     ]
    }
   ],
   "source": [
    "print(x)"
   ]
  },
  {
   "cell_type": "code",
   "execution_count": 24,
   "id": "65bc39ca",
   "metadata": {},
   "outputs": [
    {
     "data": {
      "text/plain": [
       "6"
      ]
     },
     "execution_count": 24,
     "metadata": {},
     "output_type": "execute_result"
    }
   ],
   "source": [
    "x+4"
   ]
  },
  {
   "cell_type": "code",
   "execution_count": 25,
   "id": "0808dea9",
   "metadata": {},
   "outputs": [
    {
     "data": {
      "text/plain": [
       "7.678"
      ]
     },
     "execution_count": 25,
     "metadata": {},
     "output_type": "execute_result"
    }
   ],
   "source": [
    "x+y"
   ]
  },
  {
   "cell_type": "code",
   "execution_count": 26,
   "id": "8dec3581",
   "metadata": {},
   "outputs": [],
   "source": [
    "x=x+4"
   ]
  },
  {
   "cell_type": "code",
   "execution_count": 27,
   "id": "1d525075",
   "metadata": {},
   "outputs": [
    {
     "name": "stdout",
     "output_type": "stream",
     "text": [
      "6\n"
     ]
    }
   ],
   "source": [
    "print(x)"
   ]
  },
  {
   "cell_type": "code",
   "execution_count": 31,
   "id": "5ca5b97b",
   "metadata": {},
   "outputs": [],
   "source": [
    "a='Hello, '"
   ]
  },
  {
   "cell_type": "code",
   "execution_count": 29,
   "id": "120111cf",
   "metadata": {},
   "outputs": [],
   "source": [
    "b='Mary'"
   ]
  },
  {
   "cell_type": "markdown",
   "id": "a388870d",
   "metadata": {},
   "source": [
    "Concatenate - for strings since you cant use aggrative funtion"
   ]
  },
  {
   "cell_type": "code",
   "execution_count": 32,
   "id": "eff5ce3c",
   "metadata": {},
   "outputs": [
    {
     "data": {
      "text/plain": [
       "'Hello, Mary'"
      ]
     },
     "execution_count": 32,
     "metadata": {},
     "output_type": "execute_result"
    }
   ],
   "source": [
    "a+b"
   ]
  },
  {
   "cell_type": "code",
   "execution_count": 33,
   "id": "aef63cad",
   "metadata": {},
   "outputs": [],
   "source": [
    "n='potatoes'"
   ]
  },
  {
   "cell_type": "code",
   "execution_count": 34,
   "id": "33fa74e9",
   "metadata": {},
   "outputs": [
    {
     "data": {
      "text/plain": [
       "'potatoespotatoespotatoespotatoespotatoespotatoespotatoespotatoespotatoespotatoespotatoespotatoes'"
      ]
     },
     "execution_count": 34,
     "metadata": {},
     "output_type": "execute_result"
    }
   ],
   "source": [
    "n*12"
   ]
  },
  {
   "cell_type": "markdown",
   "id": "032b0847",
   "metadata": {},
   "source": [
    "ChecKing for equality"
   ]
  },
  {
   "cell_type": "code",
   "execution_count": 35,
   "id": "c503af11",
   "metadata": {},
   "outputs": [
    {
     "data": {
      "text/plain": [
       "False"
      ]
     },
     "execution_count": 35,
     "metadata": {},
     "output_type": "execute_result"
    }
   ],
   "source": [
    "x == y"
   ]
  },
  {
   "cell_type": "code",
   "execution_count": 36,
   "id": "1d8a8d13",
   "metadata": {},
   "outputs": [
    {
     "data": {
      "text/plain": [
       "bool"
      ]
     },
     "execution_count": 36,
     "metadata": {},
     "output_type": "execute_result"
    }
   ],
   "source": [
    "type(x == y)"
   ]
  },
  {
   "cell_type": "markdown",
   "id": "449745a1",
   "metadata": {},
   "source": [
    "Code 3 different ways of reaching a result of 100 by adding or subtracting numeric variables."
   ]
  },
  {
   "cell_type": "code",
   "execution_count": 1,
   "id": "741941cd",
   "metadata": {},
   "outputs": [],
   "source": [
    "a=50\n",
    "b=100\n",
    "c=200"
   ]
  },
  {
   "cell_type": "code",
   "execution_count": 2,
   "id": "88ab6b39",
   "metadata": {},
   "outputs": [
    {
     "data": {
      "text/plain": [
       "100"
      ]
     },
     "execution_count": 2,
     "metadata": {},
     "output_type": "execute_result"
    }
   ],
   "source": [
    "a+a"
   ]
  },
  {
   "cell_type": "code",
   "execution_count": 3,
   "id": "53bc24a1",
   "metadata": {},
   "outputs": [
    {
     "data": {
      "text/plain": [
       "100"
      ]
     },
     "execution_count": 3,
     "metadata": {},
     "output_type": "execute_result"
    }
   ],
   "source": [
    "c-b"
   ]
  },
  {
   "cell_type": "markdown",
   "id": "699555ce",
   "metadata": {},
   "source": [
    "Code 2 floating-point variables and divide them by each other."
   ]
  },
  {
   "cell_type": "code",
   "execution_count": 4,
   "id": "b26aa4ca",
   "metadata": {},
   "outputs": [],
   "source": [
    "d=3.333\n",
    "e=6.666"
   ]
  },
  {
   "cell_type": "code",
   "execution_count": 5,
   "id": "3f80be57",
   "metadata": {},
   "outputs": [
    {
     "data": {
      "text/plain": [
       "2.0"
      ]
     },
     "execution_count": 5,
     "metadata": {},
     "output_type": "execute_result"
    }
   ],
   "source": [
    "e/d"
   ]
  },
  {
   "cell_type": "code",
   "execution_count": 8,
   "id": "dff0444e",
   "metadata": {},
   "outputs": [],
   "source": [
    "f='I am '\n",
    "g='Happy '\n",
    "h='to '\n",
    "i='learn '\n",
    "j='Python!'"
   ]
  },
  {
   "cell_type": "code",
   "execution_count": 9,
   "id": "100f3fdc",
   "metadata": {},
   "outputs": [
    {
     "data": {
      "text/plain": [
       "'I am Happy to learn Python!'"
      ]
     },
     "execution_count": 9,
     "metadata": {},
     "output_type": "execute_result"
    }
   ],
   "source": [
    "f+g+h+i+j"
   ]
  },
  {
   "cell_type": "code",
   "execution_count": 12,
   "id": "878c3de9",
   "metadata": {},
   "outputs": [],
   "source": [
    "first_name='Bandana'\n",
    "space=' '\n",
    "last_name='Sharma'"
   ]
  },
  {
   "cell_type": "code",
   "execution_count": 13,
   "id": "60a4656a",
   "metadata": {},
   "outputs": [
    {
     "name": "stdout",
     "output_type": "stream",
     "text": [
      "Bandana Sharma\n"
     ]
    }
   ],
   "source": [
    "print(first_name+space+last_name)"
   ]
  },
  {
   "cell_type": "code",
   "execution_count": 2,
   "id": "e086cb2a",
   "metadata": {},
   "outputs": [],
   "source": [
    "Sentence1='I am enjoying learning Python.'\n",
    "Space=' '\n",
    "Sentence2='I hope to master it one day.'"
   ]
  },
  {
   "cell_type": "code",
   "execution_count": 19,
   "id": "40b840d8",
   "metadata": {},
   "outputs": [
    {
     "data": {
      "text/plain": [
       "'I am enjoying learning Python. I hope to master it one day.'"
      ]
     },
     "execution_count": 19,
     "metadata": {},
     "output_type": "execute_result"
    }
   ],
   "source": [
    "Sentence1+Space+Sentence2"
   ]
  },
  {
   "cell_type": "code",
   "execution_count": 3,
   "id": "7a6c0f94",
   "metadata": {},
   "outputs": [
    {
     "data": {
      "text/plain": [
       "'I am enjoying learning Python.I am enjoying learning Python.I am enjoying learning Python.I am enjoying learning Python.I am enjoying learning Python.I am enjoying learning Python.I am enjoying learning Python.I am enjoying learning Python.I am enjoying learning Python.I am enjoying learning Python.I am enjoying learning Python.I am enjoying learning Python.I am enjoying learning Python.I am enjoying learning Python.I am enjoying learning Python.I am enjoying learning Python.I am enjoying learning Python.I am enjoying learning Python.I am enjoying learning Python.I am enjoying learning Python.I am enjoying learning Python.I am enjoying learning Python.I am enjoying learning Python.I am enjoying learning Python.I am enjoying learning Python.I am enjoying learning Python.I am enjoying learning Python.I am enjoying learning Python.I am enjoying learning Python.I am enjoying learning Python.I am enjoying learning Python.I am enjoying learning Python.I am enjoying learning Python.I am enjoying learning Python.I am enjoying learning Python.I am enjoying learning Python.I am enjoying learning Python.I am enjoying learning Python.I am enjoying learning Python.I am enjoying learning Python.I am enjoying learning Python.I am enjoying learning Python.I am enjoying learning Python.I am enjoying learning Python.I am enjoying learning Python.I am enjoying learning Python.I am enjoying learning Python.I am enjoying learning Python.I am enjoying learning Python.I am enjoying learning Python.I am enjoying learning Python.I am enjoying learning Python.I am enjoying learning Python.I am enjoying learning Python.I am enjoying learning Python.I am enjoying learning Python.I am enjoying learning Python.I am enjoying learning Python.I am enjoying learning Python.I am enjoying learning Python.I am enjoying learning Python.I am enjoying learning Python.I am enjoying learning Python.I am enjoying learning Python.I am enjoying learning Python.I am enjoying learning Python.I am enjoying learning Python.I am enjoying learning Python.I am enjoying learning Python.I am enjoying learning Python.I am enjoying learning Python.I am enjoying learning Python.I am enjoying learning Python.I am enjoying learning Python.I am enjoying learning Python.I am enjoying learning Python.I am enjoying learning Python.I am enjoying learning Python.I am enjoying learning Python.I am enjoying learning Python.I am enjoying learning Python.I am enjoying learning Python.I am enjoying learning Python.I am enjoying learning Python.I am enjoying learning Python.I am enjoying learning Python.I am enjoying learning Python.I am enjoying learning Python.I am enjoying learning Python.I am enjoying learning Python.I am enjoying learning Python.I am enjoying learning Python.I am enjoying learning Python.I am enjoying learning Python.I am enjoying learning Python.I am enjoying learning Python.I am enjoying learning Python.I am enjoying learning Python.I am enjoying learning Python.I am enjoying learning Python.'"
      ]
     },
     "execution_count": 3,
     "metadata": {},
     "output_type": "execute_result"
    }
   ],
   "source": [
    "Sentence1*100"
   ]
  },
  {
   "cell_type": "code",
   "execution_count": null,
   "id": "a8ae1e9d",
   "metadata": {},
   "outputs": [],
   "source": []
  }
 ],
 "metadata": {
  "kernelspec": {
   "display_name": "Python 3 (ipykernel)",
   "language": "python",
   "name": "python3"
  },
  "language_info": {
   "codemirror_mode": {
    "name": "ipython",
    "version": 3
   },
   "file_extension": ".py",
   "mimetype": "text/x-python",
   "name": "python",
   "nbconvert_exporter": "python",
   "pygments_lexer": "ipython3",
   "version": "3.11.5"
  }
 },
 "nbformat": 4,
 "nbformat_minor": 5
}
